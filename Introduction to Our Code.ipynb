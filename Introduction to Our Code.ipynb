{
 "cells": [
  {
   "cell_type": "markdown",
   "metadata": {},
   "source": [
    "### Endomorphism API\n",
    "\n",
    "This notebook exists to explain how to us the current functionality (At present living in the\n",
    "`features/nodes-in-trees` branch) to manipulate the graphs we are working with."
   ]
  },
  {
   "cell_type": "code",
   "execution_count": 1,
   "metadata": {},
   "outputs": [],
   "source": [
    "from function import Node, Tree, tipless, tree_tidy, tree_to_nodes, nodes_to_tree, verify_mapping"
   ]
  },
  {
   "cell_type": "markdown",
   "metadata": {},
   "source": [
    "The base representation of a tree is a dict whose keys are node identities (currently integers, but there\n",
    "is no reason why nodes shold not be arbitrarily named) and whose values are lists of ids of \"child\" nodes.\n",
    "(We can straighten the terminology out later). For convenience of programming these \"d-tree\" representations\n",
    "can be transformed into a node-based \"n-tree\" representation.\n",
    "\n",
    "You can verify that a dict represents a mapping by calling `verify_mapping` with a dict argument.\n",
    "If the result is a null string the mapping checks out, allowing us to detect illegal mappings before\n",
    "starting to process them.\n",
    "\n",
    "It strikes me that `mapping_errors` might be a better name for readbility,\n",
    "since we would then naturally be able to write code \n",
    "\n",
    "    errs = mapping_errors(my_mapping)\n",
    "    if errs:\n",
    "        <take appropriate action>\n"
   ]
  },
  {
   "cell_type": "code",
   "execution_count": 2,
   "metadata": {},
   "outputs": [
    {
     "data": {
      "text/plain": [
       "''"
      ]
     },
     "execution_count": 2,
     "metadata": {},
     "output_type": "execute_result"
    }
   ],
   "source": [
    "verify_mapping({1:[2]}, 1)"
   ]
  },
  {
   "cell_type": "code",
   "execution_count": 3,
   "metadata": {},
   "outputs": [
    {
     "name": "stdout",
     "output_type": "stream",
     "text": [
      "Mapping discrepancy: Keys [1] Values [2]\n"
     ]
    }
   ],
   "source": [
    "mapping_errors = verify_mapping\n",
    "errs = mapping_errors({1:[2]}, 2)\n",
    "if errs:\n",
    "    print(f\"Mapping discrepancy: {errs}\")"
   ]
  },
  {
   "cell_type": "markdown",
   "metadata": {},
   "source": [
    "This mechanism to ensure we are dealing with vaid data should be used on all inputs.\n",
    "There's nothing worse than spending hourse trying to find out what's wrong with your code,\n",
    "only to discover the error is in the data. [_The function needs rather more rigorous testing_].\n",
    "\n",
    "This function is used in the function that converts a d-tree (one defined in a dictionary) to an n-tree\n",
    "(one defined by relationships between nodes)."
   ]
  },
  {
   "cell_type": "code",
   "execution_count": 4,
   "metadata": {
    "tags": [
     "raises-exception"
    ]
   },
   "outputs": [
    {
     "ename": "ValueError",
     "evalue": "Error in mapping: Keys [1] Values [2]",
     "output_type": "error",
     "traceback": [
      "\u001b[0;31m---------------------------------------------------------------------------\u001b[0m",
      "\u001b[0;31mValueError\u001b[0m                                Traceback (most recent call last)",
      "\u001b[0;32m<ipython-input-4-33bf426bb868>\u001b[0m in \u001b[0;36m<module>\u001b[0;34m\u001b[0m\n\u001b[0;32m----> 1\u001b[0;31m \u001b[0mntree\u001b[0m \u001b[0;34m=\u001b[0m \u001b[0mtree_to_nodes\u001b[0m\u001b[0;34m(\u001b[0m\u001b[0;34m{\u001b[0m\u001b[0;36m1\u001b[0m\u001b[0;34m:\u001b[0m\u001b[0;34m[\u001b[0m\u001b[0;36m2\u001b[0m\u001b[0;34m]\u001b[0m\u001b[0;34m}\u001b[0m\u001b[0;34m,\u001b[0m \u001b[0;36m2\u001b[0m\u001b[0;34m)\u001b[0m\u001b[0;34m\u001b[0m\u001b[0;34m\u001b[0m\u001b[0m\n\u001b[0m",
      "\u001b[0;32m~/Projects/Python/testing_example/function.py\u001b[0m in \u001b[0;36mtree_to_nodes\u001b[0;34m(in_tree, root)\u001b[0m\n\u001b[1;32m    173\u001b[0m     \u001b[0merrs\u001b[0m \u001b[0;34m=\u001b[0m \u001b[0mverify_mapping\u001b[0m\u001b[0;34m(\u001b[0m\u001b[0min_tree\u001b[0m\u001b[0;34m,\u001b[0m \u001b[0mroot\u001b[0m\u001b[0;34m)\u001b[0m\u001b[0;34m\u001b[0m\u001b[0;34m\u001b[0m\u001b[0m\n\u001b[1;32m    174\u001b[0m     \u001b[0;32mif\u001b[0m \u001b[0merrs\u001b[0m\u001b[0;34m:\u001b[0m\u001b[0;34m\u001b[0m\u001b[0;34m\u001b[0m\u001b[0m\n\u001b[0;32m--> 175\u001b[0;31m         \u001b[0;32mraise\u001b[0m \u001b[0mValueError\u001b[0m\u001b[0;34m(\u001b[0m\u001b[0;34mf\"Error in mapping: {errs}\"\u001b[0m\u001b[0;34m)\u001b[0m\u001b[0;34m\u001b[0m\u001b[0;34m\u001b[0m\u001b[0m\n\u001b[0m\u001b[1;32m    176\u001b[0m     \u001b[0mtree\u001b[0m \u001b[0;34m=\u001b[0m \u001b[0mTree\u001b[0m\u001b[0;34m(\u001b[0m\u001b[0;34m)\u001b[0m\u001b[0;34m\u001b[0m\u001b[0;34m\u001b[0m\u001b[0m\n\u001b[1;32m    177\u001b[0m     \u001b[0;32mreturn\u001b[0m \u001b[0m_tree_to_nodes\u001b[0m\u001b[0;34m(\u001b[0m\u001b[0min_tree\u001b[0m\u001b[0;34m,\u001b[0m \u001b[0mroot\u001b[0m\u001b[0;34m,\u001b[0m \u001b[0mtree\u001b[0m\u001b[0;34m)\u001b[0m\u001b[0;34m\u001b[0m\u001b[0;34m\u001b[0m\u001b[0m\n",
      "\u001b[0;31mValueError\u001b[0m: Error in mapping: Keys [1] Values [2]"
     ]
    }
   ],
   "source": [
    "ntree = tree_to_nodes({1:[2]}, 2)"
   ]
  },
  {
   "cell_type": "markdown",
   "metadata": {},
   "source": [
    "The error message might be clearer, but at least we aren't working with duff data!\n",
    "It's a debatable question whether to build the checking in or leave it to the user\n",
    "to perform. What happens with good data?"
   ]
  },
  {
   "cell_type": "code",
   "execution_count": 5,
   "metadata": {},
   "outputs": [],
   "source": [
    "ntree_1 = tree_to_nodes({1:[2]}, 1)"
   ]
  },
  {
   "cell_type": "markdown",
   "metadata": {},
   "source": [
    "We now have a node-based tree.\n",
    "What does it look like?"
   ]
  },
  {
   "cell_type": "code",
   "execution_count": 6,
   "metadata": {},
   "outputs": [
    {
     "data": {
      "text/plain": [
       "<Node 1 - 0 inessential(s), 1 child(ren)>"
      ]
     },
     "execution_count": 6,
     "metadata": {},
     "output_type": "execute_result"
    }
   ],
   "source": [
    "ntree_1"
   ]
  },
  {
   "cell_type": "markdown",
   "metadata": {},
   "source": [
    "One immediate advantage of this representation is\n",
    "that the root does not need to be passed separately\n",
    "from the conectivity data.\n",
    "The output abive is actually just the representation of the root node of the tree.\n",
    "Trees have a method to print them out in full, though, in a way that makes the\n",
    "structure relatively readable."
   ]
  },
  {
   "cell_type": "code",
   "execution_count": 7,
   "metadata": {},
   "outputs": [
    {
     "name": "stdout",
     "output_type": "stream",
     "text": [
      "Node 1: ()\n",
      "| Node 2: ()\n"
     ]
    }
   ],
   "source": [
    "print(ntree_1.pretty())"
   ]
  },
  {
   "cell_type": "markdown",
   "metadata": {},
   "source": [
    "You can see that the children of a node appear indented one level.\n",
    "Their children will in turn be indented a further level, and so on.\n",
    "Lets's try that with a bigger tree, the one I've used as a primary\n",
    "example."
   ]
  },
  {
   "cell_type": "code",
   "execution_count": 8,
   "metadata": {},
   "outputs": [
    {
     "name": "stdout",
     "output_type": "stream",
     "text": [
      "Node 1: ()\n",
      "| Node 2: ()\n",
      "| | Node 4: ()\n",
      "| | | Node 5: ()\n",
      "| | | | Node 6: ()\n",
      "| | | | Node 7: ()\n",
      "| Node 3: ()\n",
      "| | Node 8: ()\n",
      "| | Node 9: ()\n",
      "| | Node 10: ()\n"
     ]
    }
   ],
   "source": [
    "ntree_2 = tree_to_nodes(\n",
    "    {1: [2, 3], 2: [4], 4: [5], 5: [6, 7], 3: [8, 9, 10]},\n",
    "    1\n",
    ")\n",
    "print(ntree_2.pretty())"
   ]
  },
  {
   "cell_type": "markdown",
   "metadata": {},
   "source": [
    "It's relatively easy to say that `Node 10` is the third child of `Node 3`, which in turn is the second child of the root.\n",
    "This nicely-recursive representation makes it relatively easy to write recursive processing agorithms.\n",
    "Looking at the path down to to `Node 6` makes it fairly obvious there's a string of single-child nodes between\n",
    "`Nodes 1` and `5`.\n",
    "\n",
    "We can reshape the tree by stashing inessential nodes in a class attribute. This re-structures the tree,\n",
    "so technically it woud be better if a) it were a `Tree` method not a `Node` method, and b) it created a completely\n",
    "new `Tree`. (This prompts a speculation that a `Tree` should really know where it's rooted. But this is early\n",
    "days yet, and so I'm prepared to put up with these shortcomings, which can be remedied when they block\n",
    "further progress. We may never get there. This \"compression\" process is achieved by the `tidied` method"
   ]
  },
  {
   "cell_type": "code",
   "execution_count": 9,
   "metadata": {},
   "outputs": [
    {
     "ename": "RecursionError",
     "evalue": "maximum recursion depth exceeded in comparison",
     "output_type": "error",
     "traceback": [
      "\u001b[0;31m---------------------------------------------------------------------------\u001b[0m",
      "\u001b[0;31mRecursionError\u001b[0m                            Traceback (most recent call last)",
      "\u001b[0;32m<ipython-input-9-8fe8660242ef>\u001b[0m in \u001b[0;36m<module>\u001b[0;34m\u001b[0m\n\u001b[0;32m----> 1\u001b[0;31m \u001b[0mntree_2\u001b[0m \u001b[0;34m=\u001b[0m \u001b[0mntree_2\u001b[0m\u001b[0;34m.\u001b[0m\u001b[0mtidied\u001b[0m\u001b[0;34m(\u001b[0m\u001b[0;34m)\u001b[0m\u001b[0;34m\u001b[0m\u001b[0;34m\u001b[0m\u001b[0m\n\u001b[0m\u001b[1;32m      2\u001b[0m \u001b[0mprint\u001b[0m\u001b[0;34m(\u001b[0m\u001b[0mxntree_2\u001b[0m\u001b[0;34m.\u001b[0m\u001b[0mpretty\u001b[0m\u001b[0;34m(\u001b[0m\u001b[0;34m)\u001b[0m\u001b[0;34m)\u001b[0m\u001b[0;34m\u001b[0m\u001b[0;34m\u001b[0m\u001b[0m\n",
      "\u001b[0;32m~/Projects/Python/testing_example/function.py\u001b[0m in \u001b[0;36mtidied\u001b[0;34m(self)\u001b[0m\n\u001b[1;32m    150\u001b[0m             \u001b[0mroot\u001b[0m\u001b[0;34m.\u001b[0m\u001b[0miness\u001b[0m \u001b[0;34m=\u001b[0m \u001b[0miness\u001b[0m  \u001b[0;31m# Add it to the list\u001b[0m\u001b[0;34m\u001b[0m\u001b[0;34m\u001b[0m\u001b[0m\n\u001b[1;32m    151\u001b[0m         \u001b[0;31m# We aren't done until all subtrees are also done\u001b[0m\u001b[0;34m\u001b[0m\u001b[0;34m\u001b[0m\u001b[0;34m\u001b[0m\u001b[0m\n\u001b[0;32m--> 152\u001b[0;31m         \u001b[0;32mreturn\u001b[0m \u001b[0mroot\u001b[0m \u001b[0;32mif\u001b[0m \u001b[0;32mnot\u001b[0m \u001b[0mroot\u001b[0m\u001b[0;34m.\u001b[0m\u001b[0mchildren\u001b[0m \u001b[0;32melse\u001b[0m \u001b[0mroot\u001b[0m\u001b[0;34m.\u001b[0m\u001b[0mtidied\u001b[0m\u001b[0;34m(\u001b[0m\u001b[0;34m)\u001b[0m\u001b[0;34m\u001b[0m\u001b[0;34m\u001b[0m\u001b[0m\n\u001b[0m\u001b[1;32m    153\u001b[0m \u001b[0;34m\u001b[0m\u001b[0m\n\u001b[1;32m    154\u001b[0m     \u001b[0;32mdef\u001b[0m \u001b[0m_pretty\u001b[0m\u001b[0;34m(\u001b[0m\u001b[0mself\u001b[0m\u001b[0;34m,\u001b[0m \u001b[0mpad\u001b[0m\u001b[0;34m)\u001b[0m\u001b[0;34m:\u001b[0m\u001b[0;34m\u001b[0m\u001b[0;34m\u001b[0m\u001b[0m\n",
      "... last 1 frames repeated, from the frame below ...\n",
      "\u001b[0;32m~/Projects/Python/testing_example/function.py\u001b[0m in \u001b[0;36mtidied\u001b[0;34m(self)\u001b[0m\n\u001b[1;32m    150\u001b[0m             \u001b[0mroot\u001b[0m\u001b[0;34m.\u001b[0m\u001b[0miness\u001b[0m \u001b[0;34m=\u001b[0m \u001b[0miness\u001b[0m  \u001b[0;31m# Add it to the list\u001b[0m\u001b[0;34m\u001b[0m\u001b[0;34m\u001b[0m\u001b[0m\n\u001b[1;32m    151\u001b[0m         \u001b[0;31m# We aren't done until all subtrees are also done\u001b[0m\u001b[0;34m\u001b[0m\u001b[0;34m\u001b[0m\u001b[0;34m\u001b[0m\u001b[0m\n\u001b[0;32m--> 152\u001b[0;31m         \u001b[0;32mreturn\u001b[0m \u001b[0mroot\u001b[0m \u001b[0;32mif\u001b[0m \u001b[0;32mnot\u001b[0m \u001b[0mroot\u001b[0m\u001b[0;34m.\u001b[0m\u001b[0mchildren\u001b[0m \u001b[0;32melse\u001b[0m \u001b[0mroot\u001b[0m\u001b[0;34m.\u001b[0m\u001b[0mtidied\u001b[0m\u001b[0;34m(\u001b[0m\u001b[0;34m)\u001b[0m\u001b[0;34m\u001b[0m\u001b[0;34m\u001b[0m\u001b[0m\n\u001b[0m\u001b[1;32m    153\u001b[0m \u001b[0;34m\u001b[0m\u001b[0m\n\u001b[1;32m    154\u001b[0m     \u001b[0;32mdef\u001b[0m \u001b[0m_pretty\u001b[0m\u001b[0;34m(\u001b[0m\u001b[0mself\u001b[0m\u001b[0;34m,\u001b[0m \u001b[0mpad\u001b[0m\u001b[0;34m)\u001b[0m\u001b[0;34m:\u001b[0m\u001b[0;34m\u001b[0m\u001b[0;34m\u001b[0m\u001b[0m\n",
      "\u001b[0;31mRecursionError\u001b[0m: maximum recursion depth exceeded in comparison"
     ]
    }
   ],
   "source": [
    "ntree_2 = ntree_2.tidied()\n",
    "print(ntree_2.pretty())"
   ]
  },
  {
   "cell_type": "code",
   "execution_count": null,
   "metadata": {},
   "outputs": [],
   "source": []
  }
 ],
 "metadata": {
  "celltoolbar": "Tags",
  "kernelspec": {
   "display_name": "Python 3",
   "language": "python",
   "name": "python3"
  },
  "language_info": {
   "codemirror_mode": {
    "name": "ipython",
    "version": 3
   },
   "file_extension": ".py",
   "mimetype": "text/x-python",
   "name": "python",
   "nbconvert_exporter": "python",
   "pygments_lexer": "ipython3",
   "version": "3.6.10"
  }
 },
 "nbformat": 4,
 "nbformat_minor": 2
}
