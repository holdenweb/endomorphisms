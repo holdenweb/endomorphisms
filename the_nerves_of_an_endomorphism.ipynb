{
 "cells": [
  {
   "cell_type": "markdown",
   "metadata": {},
   "source": [
    "### 1\n",
    "\n",
    "Let S be a non-empty finite set. We shall think of S as a set of points in space, each point uniquely identified by positive integer.\n",
    "\n",
    "An _endomorphism_ of S is any map from S to itself. The set of all endomorphisms of S is denoted $E_S$. The structure composed of a set and one of its endomorphisms is isomorphic to a graph whose nodes represent the points of S and with an arc from a to b if and only if $f(a)=b$. \n",
    "\n",
    "We shall therefore refer to elements of S either as points or as nodes.\n",
    "\n",
    "Consider a set S with an endomorphism $f$. On repeated application of $f$ we obtain a sequence of _images_ :\n",
    "\n",
    "$$\n",
    "S_0 = S \\\\\n",
    "S_1 = f(S) \\\\\n",
    "S_2 = f(S_1)  = f^2(S_0))  \\\\\n",
    "...\n",
    "$$\n",
    "\n",
    "Clearly $S_{n+1} \\subseteq S_n$ for any natural number $n$, and - since S is finite -  this nested sequence of images  must become constant at some stage. The smallest value of $n$ for which $S_n = S_{n+1}$ is the _depth_ of $f$.\n",
    "\n",
    "Maps of depth zero are the _automorphisms_ of S, better known as _permutations_. If $f$ has depth $n$, then we shall use the symbol $P_f$ to denote the image $S_n$. The points of $P_f$ are central to the description of $f$, since the restriction of $f$ to $P_f$ is a permutation, the _core_ of $f$. Usually we can drop the subscript $f$ and write $P$ instead of $P_f$.\n",
    "\n",
    "we shall  call  points of S belonging to the core of $f$  _permanents_ (of $f$), and all other points _transients_.\n",
    "\n",
    "Let $s$ be a point of S. Then the _orbit_ of $s$ under the action of $f$ is the infinite sequence:\n",
    "\n",
    "$$\n",
    "s \\to f(s) \\to f^2(s) \\to ...\n",
    "$$\n",
    "\n",
    "If $p$ belongs to a cycle $C_j$, its orbit is that cycle repeated, beginning from $p$. The orbit of any other point $s$  must eventually reach a point $p$ of the core. We will call $p$ the _connector_ of $s$, and say $s$ is connected to $C_j$ at $p$.\n",
    "\n",
    "It is easy to see that each point of S is connected to exactly one cycle. The set consisting of the points of a cycle together with all the transients connected to it is termed a _component_ (of $f$ on S). The components provide a complete partition of S into disjoint subsets.\n",
    "\n",
    "A single component together with the corresponding restriction of $f$ will be termed a _plexus_. The _plexi_ of a permutation are just its constituent cycles. (We prefer this improper plural to the clumsy 'plexuses'.)\n",
    "\n",
    "'Theorem 1': Every endomorphism splits into a collection of disjoint plexi.\n",
    "\n",
    "Theorem 1 means that we may focus our attention on the structure of a single plexus."
   ]
  },
  {
   "cell_type": "markdown",
   "metadata": {},
   "source": [
    "### 2\n",
    "\n",
    "We may define a kind of inverse for an endomorphism - take the associated graph, and reverse all the arrows. We shall denote this _reverse_ of $f$ by the symbol $f^*$. When $f$ is a permutation the reverse corresponds to the algebraic inverse of the permutation, but in all other cases $f^*$ is not even a mapping of S to itself. Instead it is a mapping from S to the set of subsets of S (its _powerset_).\n",
    "\n",
    "suppose $a$ and $b$ are points of S and:\n",
    "\n",
    "$$\n",
    "f(a) = b\n",
    "$$\n",
    "\n",
    "We say $b$ is the _parent_ of $a$. Likewise we say $f^*(b)$ is the set of _children_ of $b$. A parent may have more than one child, but every child has exactly one parent. nodes without children are called _single_. $f^*$ maps single nodes to the empty set.\n",
    "\n",
    "By an obvious extension of this terminology we may define the _ancestors_ and the _descendants_ of any particular node.\n",
    "\n",
    "The structure consisting of a connector together with all its transient descendants, equipped with the appropriate restrictions of $f$ and $f^*$, we call a _nerve_. The corresponding graph is a directed tree with all arrows oriented towards the connector.\n",
    "\n",
    "So the structure of a plexus is a cycle with nerves descending from a possibly empty subset of its nodes.\n",
    "\n",
    "Together with theorem 1, this gives a complete qualitative picture of the structure of a finite endomorphism."
   ]
  },
  {
   "cell_type": "markdown",
   "metadata": {},
   "source": [
    "### 3\n",
    "\n",
    "To obtain a _canonical_ representation a little more work remains to be done. Suppose we have the following situation:\n",
    "\n",
    "$$\n",
    "f(a) = b \\\\ f(b) = c \\\\ f(c) = d \\\\ f*(b) = [a]\\\\ f^*(c) = [b]\n",
    "$$\n",
    "\n",
    "In graph theory terms this means that the nodes $b$ and $c$ have degree 2 (one in, one out). We call such nodes _auxiliary_ (they may be transient or permanent). The remaining nodes will be called _essential_.\n",
    "\n",
    "Such nodes convey no information about the connectivity structure of the graph. In a canonical form all we need to retain about the auxiliary nodes is how many of them lie between any pair of adjacent essential nodes. The reduced graph on the set of essential nodes, which retains all their mutual connectivity information is called the _essential_ graph. To encode all required information about the auxilary nodes (their number) it is sufficient to label the arcs of the essential graph with the appropriate non-negative integer.\n",
    "\n"
   ]
  },
  {
   "cell_type": "code",
   "execution_count": null,
   "metadata": {},
   "outputs": [],
   "source": []
  }
 ],
 "metadata": {
  "kernelspec": {
   "display_name": "Python 3",
   "language": "python",
   "name": "python3"
  },
  "language_info": {
   "codemirror_mode": {
    "name": "ipython",
    "version": 3
   },
   "file_extension": ".py",
   "mimetype": "text/x-python",
   "name": "python",
   "nbconvert_exporter": "python",
   "pygments_lexer": "ipython3",
   "version": "3.6.10"
  }
 },
 "nbformat": 4,
 "nbformat_minor": 2
}
